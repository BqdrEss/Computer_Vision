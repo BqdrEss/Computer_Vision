{
 "cells": [
  {
   "cell_type": "markdown",
   "source": [
    "# Computer Vision\n",
    "# Jacobs University Bremen\n",
    "# Fall 2021\n",
    "# Homework 1\n",
    "\n",
    "\n",
    "In this homework, we will go through basic linear algebra and image manipulation.\n",
    "\n",
    "One of the aims of this homework assignment is to get you to start getting comfortable searching for useful library functions online. So in many of the functions you will implement, you will have to look up helper functions."
   ],
   "metadata": {}
  },
  {
   "cell_type": "code",
   "execution_count": null,
   "source": [
    "#Imports the print function from newer versions of python\r\n",
    "from __future__ import print_function\r\n",
    "\r\n",
    "#Setup\r\n",
    "\r\n",
    "# The Random module for implements pseudo-random number generators\r\n",
    "import random \r\n",
    "\r\n",
    "# Numpy is the main package for scientific computing with Python. \r\n",
    "# This will be one of our most used libraries in this class\r\n",
    "import numpy as np\r\n",
    "\r\n",
    "\r\n",
    "#Imports all the methods in each of the files: linalg.py and imageManip.py\r\n",
    "from linalg import *\r\n",
    "from imageManip import *\r\n",
    "\r\n",
    "\r\n",
    "#Matplotlib is a useful plotting library for python \r\n",
    "import matplotlib.pyplot as plt\r\n",
    "# This code is to make matplotlib figures appear inline in the\r\n",
    "# notebook rather than in a new window.\r\n",
    "%matplotlib inline\r\n",
    "plt.rcParams['figure.figsize'] = (10.0, 8.0) # set default size of plots\r\n",
    "plt.rcParams['image.interpolation'] = 'nearest'\r\n",
    "plt.rcParams['image.cmap'] = 'gray'\r\n",
    "\r\n",
    "\r\n",
    "# Some more magic so that the notebook will reload external python modules;\r\n",
    "# see http://stackoverflow.com/questions/1907993/autoreload-of-modules-in-ipython\r\n",
    "%load_ext autoreload\r\n",
    "%autoreload 2\r\n",
    "%reload_ext autoreload"
   ],
   "outputs": [],
   "metadata": {}
  },
  {
   "cell_type": "markdown",
   "source": [
    "# Part 1: Linear Algebra Review\n",
    "In this section, we will review linear algebra and learn how to use vectors and matrices in python using numpy. By the end of this section, you will have implemented all the required methods in `linalg.py`."
   ],
   "metadata": {
    "collapsed": true
   }
  },
  {
   "cell_type": "markdown",
   "source": [
    "## Question 1.1 (5 points)\n",
    "First, let's test whether you can define the following matrices and vectors using numpy. Look up `np.array()` for help. In the next code block, define $M$ as a $(4, 3)$ matrix, $a$ as a $(1, 3)$ row vector and $b$ as a $(3, 1)$ column vector:\n",
    "\n",
    "$$M = \\begin{bmatrix}\n",
    "1 & 2 & 3 \\\\\n",
    "4 & 5 & 6 \\\\\n",
    "7 & 8 & 9 \\\\\n",
    "10 & 11 & 12 \\end{bmatrix}\n",
    "$$\n",
    "\n",
    "$$a = \\begin{bmatrix}\n",
    "1 & 1 & 0\n",
    "\\end{bmatrix}\n",
    "$$\n",
    "\n",
    "$$b = \\begin{bmatrix}\n",
    "-1 \\\\ 2 \\\\ 5\n",
    "\\end{bmatrix}  \n",
    "$$ "
   ],
   "metadata": {}
  },
  {
   "cell_type": "code",
   "execution_count": null,
   "source": [],
   "outputs": [],
   "metadata": {}
  },
  {
   "cell_type": "code",
   "execution_count": null,
   "source": [
    "### YOUR CODE HERE\r\n",
    "pass\r\n",
    "### END CODE HERE\r\n",
    "print(\"M = \\n\", M)\r\n",
    "print(\"The size of M is: \", M.shape)\r\n",
    "print()\r\n",
    "print(\"a = \", a)\r\n",
    "print(\"The size of a is: \", a.shape)\r\n",
    "print()\r\n",
    "print(\"b = \", b)\r\n",
    "print(\"The size of b is: \", b.shape)"
   ],
   "outputs": [],
   "metadata": {}
  },
  {
   "cell_type": "markdown",
   "source": [
    "## Question 1.2 (5 points)\n",
    "Implement the `dot_product()` method in `linalg.py` and check that it returns the correct answer for $a^Tb$."
   ],
   "metadata": {}
  },
  {
   "cell_type": "code",
   "execution_count": null,
   "source": [
    "# Now, let's test out this dot product. Your answer should be [[1]].\r\n",
    "aDotB = dot_product(a, b)\r\n",
    "print(aDotB)\r\n",
    "\r\n",
    "print(\"The size is: \", aDotB.shape)"
   ],
   "outputs": [],
   "metadata": {}
  },
  {
   "cell_type": "markdown",
   "source": [
    "## Question 1.3 (5 points)\n",
    "Implement the `complicated_matrix_function()` method in `linalg.py` and use it to compute $(a^T b)Ma^T$\n",
    "\n",
    "IMPORTANT NOTE: The `complicated_matrix_function()` method expects all inputs to be two dimensional numpy arrays, as opposed to 1-D arrays.  This is an important distinction, because 2-D arrays can be transposed, while 1-D arrays cannot.\n",
    "\n",
    "To transpose a 2-D array, you can use the syntax `array.T` "
   ],
   "metadata": {}
  },
  {
   "cell_type": "code",
   "execution_count": null,
   "source": [
    "# Your answer should be $[[3], [9], [15], [21]]$ of shape(4, 1).\r\n",
    "ans = complicated_matrix_function(M, a, b)\r\n",
    "print(ans)\r\n",
    "print()\r\n",
    "print(\"The size is: \", ans.shape)"
   ],
   "outputs": [],
   "metadata": {}
  },
  {
   "cell_type": "code",
   "execution_count": null,
   "source": [
    "M = np.array(range(4)).reshape((2,2))\r\n",
    "a = np.array([[1,1]])\r\n",
    "b = np.array([[10, 10]]).T\r\n",
    "print(M.shape)\r\n",
    "print(a.shape)\r\n",
    "print(b.shape)\r\n",
    "print()\r\n",
    "\r\n",
    "# Your answer should be $[[ 20], [100]]$ of shape(2, 1).\r\n",
    "ans = complicated_matrix_function(M, a, b)\r\n",
    "print(ans)\r\n",
    "print()\r\n",
    "print(\"The size is: \", ans.shape)"
   ],
   "outputs": [],
   "metadata": {}
  },
  {
   "cell_type": "markdown",
   "source": [
    "## Question 1.4 (10 points)\n",
    "Implement `svd()` and `get_singular_values()` methods. In this method, perform singular value decomposition on the input matrix and return the largest k singular values (k is specified in the method calls below)."
   ],
   "metadata": {}
  },
  {
   "cell_type": "code",
   "execution_count": null,
   "source": [
    "# Let's first only get the first singular value and print it out. It should be ~ 25.46.\r\n",
    "only_first_singular_value = get_singular_values(M, 1)\r\n",
    "print(only_first_singular_value)\r\n",
    "\r\n",
    "# Now, let's get the first two singular values.\r\n",
    "# Notice the first singular value is a lot larger than the second one.\r\n",
    "first_two_singular_values = get_singular_values(M, 2)\r\n",
    "print(first_two_singular_values)\r\n",
    "\r\n",
    "# Let's make sure that the first singular value in both is the same.\r\n",
    "assert only_first_singular_value[0] == first_two_singular_values[0]"
   ],
   "outputs": [],
   "metadata": {}
  },
  {
   "cell_type": "markdown",
   "source": [
    "## Question 1.5 (10 points)\n",
    "Implement `eigen_decomp()` and `get_eigen_values_and_vectors()` methods. In this method, perform eigenvalue decomposition on the following matrix and return the largest k eigen values and corresponding eigen vectors (k is specified in the method calls below).\n",
    "\n",
    "$$M = \\begin{bmatrix}\n",
    "1 & 2 & 3 \\\\\n",
    "4 & 5 & 6 \\\\\n",
    "7 & 8 & 9 \\end{bmatrix}\n",
    "$$\n"
   ],
   "metadata": {}
  },
  {
   "cell_type": "code",
   "execution_count": null,
   "source": [
    "# Let's define M.\r\n",
    "M = np.array([[1,2,3],[4,5,6],[7,8,9]])\r\n",
    "\r\n",
    "# Now let's grab the first eigenvalue and first eigenvector.\r\n",
    "# You should get back a single eigenvalue and a single eigenvector.\r\n",
    "val, vec = get_eigen_values_and_vectors(M[:,:3], 1)\r\n",
    "print(\"First eigenvalue =\", val[0])\r\n",
    "print()\r\n",
    "print(\"First eigenvector =\", vec[0])\r\n",
    "print()\r\n",
    "assert len(vec) == 1\r\n",
    "\r\n",
    "# Now, let's get the first two eigenvalues and eigenvectors.\r\n",
    "# You should get back a list of two eigenvalues and a list of two eigenvector arrays.\r\n",
    "val, vec = get_eigen_values_and_vectors(M[:,:3], 2)\r\n",
    "print(\"Eigenvalues =\", val)\r\n",
    "print()\r\n",
    "print(\"Eigenvectors =\", vec)\r\n",
    "assert len(vec) == 2"
   ],
   "outputs": [],
   "metadata": {}
  },
  {
   "cell_type": "markdown",
   "source": [
    "# Part 2: Image Manipulation \n",
    "\n",
    "Now that you are familiar with using matrices and vectors. Let's load some images and treat them as matrices and do some operations on them. By the end of this section, you will have implemented all the methods in `imageManip.py`"
   ],
   "metadata": {}
  },
  {
   "cell_type": "code",
   "execution_count": null,
   "source": [
    "# Run this code to set the locations of the images we will be using. \r\n",
    "# You can change these paths to point to your own images if you want to try them out for fun.\r\n",
    "\r\n",
    "image1_path = './image1.jpg'\r\n",
    "image2_path = './image2.jpg'\r\n",
    "\r\n",
    "def display(img):\r\n",
    "    # Show image\r\n",
    "    plt.figure(figsize = (5,5))\r\n",
    "    plt.imshow(img)\r\n",
    "    plt.axis('off')\r\n",
    "    plt.show()"
   ],
   "outputs": [],
   "metadata": {}
  },
  {
   "cell_type": "markdown",
   "source": [
    "## Question 2.1 (5 points)\n",
    "Implement the load method in imageManip.py and read the display method below. We will use these two methods through the rest of the notebook to visualize our work."
   ],
   "metadata": {}
  },
  {
   "cell_type": "code",
   "execution_count": null,
   "source": [
    "image1 = load(image1_path)\r\n",
    "image2 = load(image2_path)\r\n",
    "\r\n",
    "display(image1)\r\n",
    "display(image2)"
   ],
   "outputs": [],
   "metadata": {}
  },
  {
   "cell_type": "markdown",
   "source": [
    "## Question 2.2 (10 points)\n",
    "Implement the `dim_image()` method by converting images according to  $x_n = 0.5*x_p^2$ for every pixel, where $x_n$ is the new value and $x_p$ is the original value.\n",
    "\n",
    "Note: Since all the pixel values of the image are in the range $[0, 1]$, the above formula will result in reducing these pixels values and therefore make the image dimmer."
   ],
   "metadata": {}
  },
  {
   "cell_type": "code",
   "execution_count": null,
   "source": [
    "new_image = dim_image(image1)\r\n",
    "display(new_image)"
   ],
   "outputs": [],
   "metadata": {}
  },
  {
   "cell_type": "markdown",
   "source": [
    "## Question 2.3 (10 points)\n",
    "Implement the convert_to_grey_scale method and convert the image into grey scale."
   ],
   "metadata": {}
  },
  {
   "cell_type": "code",
   "execution_count": null,
   "source": [
    "grey_image = convert_to_grey_scale(image1)\r\n",
    "display(grey_image)"
   ],
   "outputs": [],
   "metadata": {}
  },
  {
   "cell_type": "markdown",
   "source": [
    "## Question 2.4 (10 points)\n",
    "Implement the `rgb_exclusion()`, in which the input image is decomposed into the three channels: R, G and B and return the image excluding the specified channel. "
   ],
   "metadata": {}
  },
  {
   "cell_type": "code",
   "execution_count": null,
   "source": [
    "without_red = rgb_exclusion(image1, 'R')\r\n",
    "without_blue = rgb_exclusion(image1, 'B')\r\n",
    "without_green = rgb_exclusion(image1, 'G')\r\n",
    "\r\n",
    "print(\"Below is the image without the red channel.\")\r\n",
    "display(without_red)\r\n",
    "\r\n",
    "print(\"Below is the image without the green channel.\")\r\n",
    "display(without_green)\r\n",
    "\r\n",
    "print(\"Below is the image without the blue channel.\")\r\n",
    "display(without_blue)"
   ],
   "outputs": [],
   "metadata": {}
  },
  {
   "cell_type": "markdown",
   "source": [
    "## Question 2.5 (10 points)\n",
    "Implement the `hsv_decomposition()`, in which the input image is decomposed into the three channels: H, S and V and return the values for the specified channel. "
   ],
   "metadata": {}
  },
  {
   "cell_type": "code",
   "execution_count": null,
   "source": [
    "image_h = hsv_decomposition(image1, 'H')\r\n",
    "image_s = hsv_decomposition(image1, 'S')\r\n",
    "image_v = hsv_decomposition(image1, 'V')\r\n",
    "\r\n",
    "print(\"Below is the image with only the H channel.\")\r\n",
    "display(image_h)\r\n",
    "\r\n",
    "print(\"Below is the image with only the S channel.\")\r\n",
    "display(image_s)\r\n",
    "\r\n",
    "print(\"Below is the image with only the V channel.\")\r\n",
    "display(image_v)"
   ],
   "outputs": [],
   "metadata": {}
  },
  {
   "cell_type": "markdown",
   "source": [
    "### Question:\n",
    "Explain in 2-3 sentences what the H, S and V channels are and what happens when you take away the both the H and S channels.\n",
    "### Answer:\n",
    "Write your answer here."
   ],
   "metadata": {}
  },
  {
   "cell_type": "markdown",
   "source": [
    "## Question 2.6 (10 points)\n",
    "In mix_images method, create a new image such that the left half of the image is the left half of image1 and the\n",
    "right half of the image is the right half of image2. Exclude the specified channel for the given image. \n",
    "\n",
    "You should see the left half of the monkey without the red channel and the right half of the house image with no green channel."
   ],
   "metadata": {}
  },
  {
   "cell_type": "code",
   "execution_count": null,
   "source": [
    "image_mixed = mix_images(image1, image2, channel1='R', channel2='G')\r\n",
    "display(image_mixed)\r\n",
    "\r\n",
    "#Sanity Check: the sum of the image matrix should be 76421.98\r\n",
    "np.sum(image_mixed)"
   ],
   "outputs": [],
   "metadata": {}
  }
 ],
 "metadata": {
  "kernelspec": {
   "display_name": "Python 3",
   "language": "python",
   "name": "python3"
  },
  "language_info": {
   "codemirror_mode": {
    "name": "ipython",
    "version": 3
   },
   "file_extension": ".py",
   "mimetype": "text/x-python",
   "name": "python",
   "nbconvert_exporter": "python",
   "pygments_lexer": "ipython3",
   "version": "3.6.13"
  }
 },
 "nbformat": 4,
 "nbformat_minor": 2
}